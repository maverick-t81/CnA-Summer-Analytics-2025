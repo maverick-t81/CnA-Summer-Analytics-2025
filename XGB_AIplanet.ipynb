{
  "nbformat": 4,
  "nbformat_minor": 0,
  "metadata": {
    "colab": {
      "provenance": []
    },
    "kernelspec": {
      "name": "python3",
      "display_name": "Python 3"
    },
    "language_info": {
      "name": "python"
    }
  },
  "cells": [
    {
      "cell_type": "code",
      "source": [
        "import pandas as pd\n",
        "from sklearn.model_selection import train_test_split\n",
        "from sklearn.preprocessing import StandardScaler\n",
        "from sklearn.metrics import classification_report\n",
        "from xgboost import XGBClassifier\n",
        "from lightgbm import LGBMClassifier\n",
        "from imblearn.under_sampling import RandomUnderSampler\n",
        "from imblearn.over_sampling import SMOTE"
      ],
      "metadata": {
        "id": "AoszNvPdjMe-"
      },
      "execution_count": null,
      "outputs": []
    },
    {
      "cell_type": "markdown",
      "source": [],
      "metadata": {
        "id": "b-ZCPj9shJkG"
      }
    },
    {
      "cell_type": "code",
      "execution_count": null,
      "metadata": {
        "id": "m9k8stw-i4TH"
      },
      "outputs": [],
      "source": [
        "# Load data\n",
        "train_data = pd.read_csv('/content/Train_Data.csv')\n",
        "test_data = pd.read_csv('/content/Test_Data.csv')\n",
        "\n",
        "# Drop rows with missing target\n",
        "train_data = train_data.dropna(subset=['age_group'])\n",
        "\n",
        "# Map target to binary\n",
        "train_data['age_group'] = train_data['age_group'].map({'Adult': 0, 'Senior': 1})\n",
        "\n",
        "# Define features\n",
        "features = ['RIAGENDR', 'PAQ605', 'BMXBMI', 'LBXGLU', 'DIQ010', 'LBXGLT', 'LBXIN']\n",
        "categorical_features = ['RIAGENDR', 'PAQ605', 'DIQ010']\n",
        "continuous_features = ['BMXBMI', 'LBXGLU', 'LBXGLT', 'LBXIN']"
      ]
    },
    {
      "cell_type": "code",
      "source": [
        "# Class-wise imputation for training data\n",
        "for col in categorical_features:\n",
        "    for group in [0, 1]:\n",
        "        mode_val = train_data.loc[train_data['age_group'] == group, col].mode()[0]\n",
        "        mask = (train_data['age_group'] == group) & (train_data[col].isnull())\n",
        "        train_data.loc[mask, col] = mode_val\n",
        "\n",
        "for col in continuous_features:\n",
        "    for group in [0, 1]:\n",
        "        median_val = train_data.loc[train_data['age_group'] == group, col].median()\n",
        "        mask = (train_data['age_group'] == group) & (train_data[col].isnull())\n",
        "        train_data.loc[mask, col] = median_val\n",
        "\n",
        "# Global imputation for test data (since we don't know the class)\n",
        "for col in categorical_features:\n",
        "    mode_val = train_data[col].mode()[0]\n",
        "    test_data[col] = test_data[col].fillna(mode_val)\n",
        "for col in continuous_features:\n",
        "    median_val = train_data[col].median()\n",
        "    test_data[col] = test_data[col].fillna(median_val)"
      ],
      "metadata": {
        "id": "QdXTT0WojhXi"
      },
      "execution_count": null,
      "outputs": []
    },
    {
      "cell_type": "code",
      "source": [
        "# Prepare train and validation split\n",
        "X = train_data[features]\n",
        "y = train_data['age_group']\n",
        "X_train, X_val, y_train, y_val = train_test_split(X, y, test_size=0.3, random_state=42, stratify=y)\n",
        "\n",
        "# Scale features\n",
        "scaler = StandardScaler()\n",
        "X_train_scaled = scaler.fit_transform(X_train)\n",
        "X_val_scaled = scaler.transform(X_val)\n",
        "X_test_scaled = scaler.transform(test_data[features])\n",
        "\n",
        "# First, undersample majority class (adults)\n",
        "rus = RandomUnderSampler(sampling_strategy=0.8, random_state=42)\n",
        "X_res, y_res = rus.fit_resample(X_train_scaled, y_train)\n",
        "\n",
        "# Then, oversample minority class (seniors)\n",
        "smote = SMOTE(sampling_strategy=1.0, random_state=42)\n",
        "X_bal, y_bal = smote.fit_resample(X_res, y_res)\n",
        "\n",
        "# XGBoost: set scale_pos_weight to handle imbalance (optional, since data is balanced)\n",
        "xgb_clf = XGBClassifier(use_label_encoder=False, eval_metric='auc', random_state=42)\n",
        "xgb_clf.fit(X_bal, y_bal)\n",
        "\n",
        "probs = xgb_clf.predict_proba(X_val_scaled)[:, 1]\n",
        "val_preds_custom = (probs > 0.8).astype(int)\n",
        "from sklearn.metrics import classification_report\n",
        "print(classification_report(y_val, val_preds_custom, target_names=['Adult', 'Senior']))\n",
        "\n"
      ],
      "metadata": {
        "colab": {
          "base_uri": "https://localhost:8080/"
        },
        "id": "kdr9iIOtlwfM",
        "outputId": "f76a9528-96d9-4353-9e44-86e85846bd32"
      },
      "execution_count": null,
      "outputs": [
        {
          "output_type": "stream",
          "name": "stdout",
          "text": [
            "              precision    recall  f1-score   support\n",
            "\n",
            "       Adult       0.88      0.83      0.85       492\n",
            "      Senior       0.32      0.43      0.36        94\n",
            "\n",
            "    accuracy                           0.76       586\n",
            "   macro avg       0.60      0.63      0.61       586\n",
            "weighted avg       0.79      0.76      0.77       586\n",
            "\n"
          ]
        },
        {
          "output_type": "stream",
          "name": "stderr",
          "text": [
            "/usr/local/lib/python3.11/dist-packages/xgboost/core.py:158: UserWarning: [15:18:25] WARNING: /workspace/src/learner.cc:740: \n",
            "Parameters: { \"use_label_encoder\" } are not used.\n",
            "\n",
            "  warnings.warn(smsg, UserWarning)\n"
          ]
        }
      ]
    },
    {
      "cell_type": "code",
      "source": [
        "# Predict probabilities for the test set (not validation set)\n",
        "test_probs = xgb_clf.predict_proba(X_test_scaled)[:, 1]\n",
        "\n",
        "# Choose your threshold (e.g., 0.8 as in your example)\n",
        "threshold = 0.8\n",
        "test_preds = (test_probs > threshold).astype(int)\n",
        "\n",
        "# If your test_data has an ID column like 'SEQN', include it; otherwise, just use the predictions\n",
        "if 'SEQN' in test_data.columns:\n",
        "    submission = pd.DataFrame({\n",
        "        'age_group': test_preds\n",
        "    })\n",
        "else:\n",
        "    submission = pd.DataFrame({'age_group': test_preds})\n",
        "\n",
        "submission.to_csv('submission_xgb.csv', index=False)\n",
        "print(\"Submission file 'submission_xgb.csv' created!\")"
      ],
      "metadata": {
        "colab": {
          "base_uri": "https://localhost:8080/"
        },
        "id": "BBxDXXajgp6x",
        "outputId": "f71d536b-5b5c-494b-9476-f6eda4e5ed34"
      },
      "execution_count": null,
      "outputs": [
        {
          "output_type": "stream",
          "name": "stdout",
          "text": [
            "Submission file 'submission_xgb.csv' created!\n"
          ]
        }
      ]
    }
  ]
}